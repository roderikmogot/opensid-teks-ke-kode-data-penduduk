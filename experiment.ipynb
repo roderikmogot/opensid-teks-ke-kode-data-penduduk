{
 "cells": [
  {
   "cell_type": "code",
   "execution_count": null,
   "metadata": {},
   "outputs": [],
   "source": [
    "import pandas as pd"
   ]
  },
  {
   "cell_type": "code",
   "execution_count": null,
   "metadata": {},
   "outputs": [],
   "source": [
    "raw_data = pd.read_excel(\"FormatImportExcel (2).xlsm\", dtype=str, sheet_name=\"Data Penduduk\") \n",
    "raw_data"
   ]
  },
  {
   "cell_type": "code",
   "execution_count": null,
   "metadata": {},
   "outputs": [],
   "source": [
    "raw_data[\"NIK\"].notna().sum()"
   ]
  },
  {
   "cell_type": "code",
   "execution_count": null,
   "metadata": {},
   "outputs": [],
   "source": [
    "for i, txt in enumerate(raw_data['Jenis Kelamin']):\n",
    "    if txt == 'L':\n",
    "        raw_data['Jenis Kelamin'][i] = '1'\n",
    "    elif txt == 'P':\n",
    "        raw_data['Jenis Kelamin'][i] = '2'\n",
    "raw_data[\"Jenis Kelamin\"]"
   ]
  },
  {
   "cell_type": "code",
   "execution_count": null,
   "metadata": {},
   "outputs": [],
   "source": [
    "for i, txt in enumerate(raw_data['Kewarganegaraan']):\n",
    "    if txt == 'WNI':\n",
    "        raw_data['Kewarganegaraan'][i] = '1'\n",
    "    elif txt == 'WNA':\n",
    "        raw_data['Kewarganegaraan'][i] = '2'\n",
    "raw_data['Kewarganegaraan']"
   ]
  },
  {
   "cell_type": "code",
   "execution_count": null,
   "metadata": {},
   "outputs": [],
   "source": [
    "for i, txt in enumerate(raw_data['Pekerjaan']):\n",
    "    if txt == 'BELUM/ TIDAK BEKERJA':\n",
    "        raw_data['Pekerjaan'][i] = '1'\n",
    "    elif txt == 'MENGURUS RUMAH TANGGA':\n",
    "        raw_data['Pekerjaan'][i] = '2'\n",
    "    elif txt == 'PELAJAR/ MAHASISWA':\n",
    "        raw_data['Pekerjaan'][i] = '3'\n",
    "    elif txt == 'PENSIUNAN':\n",
    "        raw_data['Pekerjaan'][i] = '4'\n",
    "    elif txt == 'PEGAWAI NEGERI SIPIL':\n",
    "        raw_data['Pekerjaan'][i] = '5'\n",
    "    elif txt == 'TENTARA NASIONAL INDONESIA (TNI)' or txt == 'PURNAWIRAWAN TNI':\n",
    "        raw_data['Pekerjaan'][i] = '6'\n",
    "    elif txt == 'KEPOLISIAN RI (POLRI)' or txt == 'POLRI':\n",
    "        raw_data['Pekerjaan'][i] = '7'\n",
    "    elif txt == 'PERDAGANGAN':\n",
    "        raw_data['Pekerjaan'][i] = '8'\n",
    "    elif txt == 'PETANI/ PEKEBUN':\n",
    "        raw_data['Pekerjaan'][i] = '9'\n",
    "    elif txt == 'PETERNAK':\n",
    "        raw_data['Pekerjaan'][i] = '10'\n",
    "    elif txt == 'NELAYAN/PERIKANAN':\n",
    "        raw_data['Pekerjaan'][i] = '11'\n",
    "    elif txt == 'INDUSTRI':\n",
    "        raw_data['Pekerjaan'][i] = '12'\n",
    "    elif txt == 'KONSTRUKSI':\n",
    "        raw_data['Pekerjaan'][i] = '13'\n",
    "    elif txt == 'TRANSPORTASI':\n",
    "        raw_data['Pekerjaan'][i] = '14'\n",
    "    elif txt == 'KARYAWAN SWASTA':\n",
    "        raw_data['Pekerjaan'][i] = '15'\n",
    "    elif txt == 'KARYAWAN BUMN' or txt == 'KARYAWAN PERUSAHAAN PEMERINTAH':\n",
    "        raw_data['Pekerjaan'][i] = '16'\n",
    "    elif txt == 'KARYAWAN BUMD':\n",
    "        raw_data['Pekerjaan'][i] = '17'\n",
    "    elif txt == 'KARYAWAN HONORER' or txt == 'Karyawan Honorer':\n",
    "        raw_data['Pekerjaan'][i] = '18'\n",
    "    elif txt == 'BURUH HARIAN LEPAS':\n",
    "        raw_data['Pekerjaan'][i] = '19'\n",
    "    elif txt == 'BURUH TANI/ PERKEBUNAN':\n",
    "        raw_data['Pekerjaan'][i] = '20'\n",
    "    elif txt == 'BURUH NELAYAN/ PERIKANAN':\n",
    "        raw_data['Pekerjaan'][i] = '21'\n",
    "    elif txt == 'BURUH PETERNAKAN':\n",
    "        raw_data['Pekerjaan'][i] = '22'\n",
    "    elif txt == 'PEMBANTU RUMAH TANGGA' or txt == 'RUMAH TANGGA' or txt == 'IBU RUMAH TANGGA':\n",
    "        raw_data['Pekerjaan'][i] = '23'\n",
    "    elif txt == 'TUKANG CUKUR':\n",
    "        raw_data['Pekerjaan'][i] = '24'\n",
    "    elif txt == 'TUKANG LISTRIK':\n",
    "        raw_data['Pekerjaan'][i] = '25'\n",
    "    elif txt == 'TUKANG BATU':\n",
    "        raw_data['Pekerjaan'][i] = '26'\n",
    "    elif txt == 'TUKANG KAYU':\n",
    "        raw_data['Pekerjaan'][i] = '27'\n",
    "    elif txt == 'TUKANG SOL SEPATU':\n",
    "        raw_data['Pekerjaan'][i] = '28'\n",
    "    elif txt == 'TUKANG LAS/ PANDAI BESI':\n",
    "        raw_data['Pekerjaan'][i] = '29'\n",
    "    elif txt == 'TUKANG JAHIT':\n",
    "        raw_data['Pekerjaan'][i] = '30'\n",
    "    elif txt == 'TUKANG GIGI':\n",
    "        raw_data['Pekerjaan'][i] = '31'\n",
    "    elif txt == 'PENATA RIAS':\n",
    "        raw_data['Pekerjaan'][i] = '32'\n",
    "    elif txt == 'PENATA BUSANA':\n",
    "        raw_data['Pekerjaan'][i] = '33'\n",
    "    elif txt == 'PENATA RAMBUT':\n",
    "        raw_data['Pekerjaan'][i] = '34'\n",
    "    elif txt == 'MEKANIK':\n",
    "        raw_data['Pekerjaan'][i] = '35'\n",
    "    elif txt == 'SENIMAN':\n",
    "        raw_data['Pekerjaan'][i] = '36'\n",
    "    elif txt == 'TABIB':\n",
    "        raw_data['Pekerjaan'][i] = '37'\n",
    "    elif txt == 'PARAJI':\n",
    "        raw_data['Pekerjaan'][i] = '38'\n",
    "    elif txt == 'PERANCANG BUSANA':\n",
    "        raw_data['Pekerjaan'][i] = '39'\n",
    "    elif txt == 'PENTERJEMAH':\n",
    "        raw_data['Pekerjaan'][i] = '40'\n",
    "    elif txt == 'IMAM MASJID':\n",
    "        raw_data['Pekerjaan'][i] = '41'\n",
    "    elif txt == 'PENDETA':\n",
    "        raw_data['Pekerjaan'][i] = '42'\n",
    "    elif txt == 'PASTOR':\n",
    "        raw_data['Pekerjaan'][i] = '43'\n",
    "    elif txt == 'WARTAWAN':\n",
    "        raw_data['Pekerjaan'][i] = '44'\n",
    "    elif txt == 'USTADZ/MUBALIGH':\n",
    "        raw_data['Pekerjaan'][i] = '45'\n",
    "    elif txt == 'JURU MASAK':\n",
    "        raw_data['Pekerjaan'][i] = '46'\n",
    "    elif txt == 'PROMOTOR ACARA':\n",
    "        raw_data['Pekerjaan'][i] = '47'\n",
    "    elif txt == 'ANGGOTA DPR-RI':\n",
    "        raw_data['Pekerjaan'][i] = '48'\n",
    "    elif txt == 'ANGGOTA DPD':\n",
    "        raw_data['Pekerjaan'][i] = '49'\n",
    "    elif txt == 'ANGGOTA BPK':\n",
    "        raw_data['Pekerjaan'][i] = '50'\n",
    "    elif txt == 'PRESIDEN':\n",
    "        raw_data['Pekerjaan'][i] = '51'\n",
    "    elif txt == 'WAKIL PRESIDEN':\n",
    "        raw_data['Pekerjaan'][i] = '52'\n",
    "    elif txt == 'ANGGOTA MAHKAMAH KONSTITUSI':\n",
    "        raw_data['Pekerjaan'][i] = '53'\n",
    "    elif txt == 'ANGGOTA KABINET KEMENTERIAN':\n",
    "        raw_data['Pekerjaan'][i] = '54'    \n",
    "    elif txt == 'DUTA BESAR':\n",
    "        raw_data['Pekerjaan'][i] = '55'\n",
    "    elif txt == 'GUBERNUR':\n",
    "        raw_data['Pekerjaan'][i] = '56'\n",
    "    elif txt == 'WAKIL GUBERNUR':\n",
    "        raw_data['Pekerjaan'][i] = '57'\n",
    "    elif txt == 'BUPATI':\n",
    "        raw_data['Pekerjaan'][i] = '58'\n",
    "    elif txt == 'WAKIL BUPATI':\n",
    "        raw_data['Pekerjaan'][i] = '59'\n",
    "    elif txt == 'WALIKOTA':\n",
    "        raw_data['Pekerjaan'][i] = '60'\n",
    "    elif txt == 'WAKIL WALIKOTA':\n",
    "        raw_data['Pekerjaan'][i] = '61'\n",
    "    elif txt == 'ANGGOTA DPRD PROVINSI':\n",
    "        raw_data['Pekerjaan'][i] = '62'\n",
    "    elif txt == 'ANGGOTA DPRD KABUPATEN/KOTA' or txt == 'ANGGOTA DPRD KAB/ KOTA':\n",
    "        raw_data['Pekerjaan'][i] = '63'\n",
    "    elif txt == 'DOSEN':\n",
    "        raw_data['Pekerjaan'][i] = '64'\n",
    "    elif txt == 'GURU' or txt == 'GURU HONOR' or txt == 'GURU HONOR ' or txt == 'GURU SWASTA' or txt == 'Guru':\n",
    "        raw_data['Pekerjaan'][i] = '65'\n",
    "    elif txt == 'PILOT':\n",
    "        raw_data['Pekerjaan'][i] = '66'\n",
    "    elif txt == 'PENGACARA':\n",
    "        raw_data['Pekerjaan'][i] = '67'\n",
    "    elif txt == 'NOTARIS':\n",
    "        raw_data['Pekerjaan'][i] = '68'\n",
    "    elif txt == 'ARSITEK':\n",
    "        raw_data['Pekerjaan'][i] = '69'\n",
    "    elif txt == 'AKUNTAN':\n",
    "        raw_data['Pekerjaan'][i] = '70'\n",
    "    elif txt == 'KONSULTAN':\n",
    "        raw_data['Pekerjaan'][i] = '71'\n",
    "    elif txt == 'DOKTER':\n",
    "        raw_data['Pekerjaan'][i] = '72'\n",
    "    elif txt == 'BIDAN':\n",
    "        raw_data['Pekerjaan'][i] = '73'\n",
    "    elif txt == 'PERAWAT':\n",
    "        raw_data['Pekerjaan'][i] = '74'\n",
    "    elif txt == 'APOTEKER':\n",
    "        raw_data['Pekerjaan'][i] = '75'\n",
    "    elif txt == 'PSIKIATER/ PSIKOLOG':\n",
    "        raw_data['Pekerjaan'][i] = '76'\n",
    "    elif txt == 'PENYIAR TELEVISI':\n",
    "        raw_data['Pekerjaan'][i] = '77'\n",
    "    elif txt == 'PENYIAR RADIO':\n",
    "        raw_data['Pekerjaan'][i] = '78'\n",
    "    elif txt == 'PELAUT':\n",
    "        raw_data['Pekerjaan'][i] = '79'\n",
    "    elif txt == 'PENELITI':\n",
    "        raw_data['Pekerjaan'][i] = '80'\n",
    "    elif txt == 'SOPIR':\n",
    "        raw_data['Pekerjaan'][i] = '81'\n",
    "    elif txt == 'PIALANG':\n",
    "        raw_data['Pekerjaan'][i] = '82'\n",
    "    elif txt == 'PARANORMAL':\n",
    "        raw_data['Pekerjaan'][i] = '83'\n",
    "    elif txt == 'PEDAGANG' or txt == 'PEDAGANG BARANG KELONTONG':\n",
    "        raw_data['Pekerjaan'][i] = '84'\n",
    "    elif txt == 'PERANGKAT DESA':\n",
    "        raw_data['Pekerjaan'][i] = '85'\n",
    "    elif txt == 'KEPALA DESA':\n",
    "        raw_data['Pekerjaan'][i] = '86'\n",
    "    elif txt == 'BIARAWATI':\n",
    "        raw_data['Pekerjaan'][i] = '87'\n",
    "    elif txt == 'WIRASWASTA' or txt == 'OTHERS' or txt == 'TRADING & INDUSTRY' or txt == 'TOURISM' or txt == 'Wiraswasta':   \n",
    "        raw_data['Pekerjaan'][i] = '88'\n",
    "raw_data['Pekerjaan']"
   ]
  },
  {
   "cell_type": "code",
   "execution_count": null,
   "metadata": {},
   "outputs": [],
   "source": [
    "raw_data[\"Pekerjaan\"].value_counts()"
   ]
  },
  {
   "cell_type": "code",
   "execution_count": null,
   "metadata": {},
   "outputs": [],
   "source": [
    "for i, txt in enumerate(raw_data['Status Perkawinan']):\n",
    "    if txt == 'BELUM KAWIN' or txt == 'BELUM KAWIN ':\n",
    "        raw_data['Status Perkawinan'][i] = '1'\n",
    "    elif txt == 'KAWIN' or txt == 'KAWIN TERCATAT' or txt == 'KAWIN ' or txt == 'KAWIN BELUM TERCATAT' or txt == 'MARRIED' or txt == '10':\n",
    "        raw_data['Status Perkawinan'][i] = '2'\n",
    "    elif txt == 'CERAI HIDUP' or txt == 'CERAI HIDUP TERCATAT' or txt == 'CERAI HIDUP BELUM TERCATAT' or txt == 'DIVORCED' or txt == 'CERAI HIDUP ':\n",
    "        raw_data['Status Perkawinan'][i] = '3'\n",
    "    elif txt == 'CERAI MATI' or txt == 'JANDA' or txt == 'DUDA':\n",
    "        raw_data['Status Perkawinan'][i] = '4'\n",
    "raw_data['Status Perkawinan']"
   ]
  },
  {
   "cell_type": "code",
   "execution_count": null,
   "metadata": {},
   "outputs": [],
   "source": [
    "raw_data[\"Status Perkawinan\"].value_counts()"
   ]
  },
  {
   "cell_type": "code",
   "execution_count": null,
   "metadata": {},
   "outputs": [],
   "source": [
    "for i, txt in enumerate(raw_data['Agama']):\n",
    "    if txt == 'ISLAM':\n",
    "        raw_data['Agama'][i] = '1'\n",
    "    elif txt == 'KRISTEN':\n",
    "        raw_data['Agama'][i] = '2'\n",
    "    elif txt == 'KATHOLIK':\n",
    "        raw_data['Agama'][i] = '3'\n",
    "    elif txt == 'HINDU' or txt == 'Hindu':\n",
    "        raw_data['Agama'][i] = '4'\n",
    "    elif txt == 'BUDHA':\n",
    "        raw_data['Agama'][i] = '5'\n",
    "    elif txt == 'KHONGHUCU':\n",
    "        raw_data['Agama'][i] = '6'\n",
    "    elif txt == 'Kepercayaan Terhadap Tuhan YME / Lainnya' or txt == 'KEPERCAYAAN TERHADAP TUHAN YME':\n",
    "        raw_data['Agama'][i] = '7'\n",
    "raw_data[\"Agama\"]"
   ]
  },
  {
   "cell_type": "code",
   "execution_count": null,
   "metadata": {},
   "outputs": [],
   "source": [
    "raw_data[\"Agama\"].value_counts()"
   ]
  },
  {
   "cell_type": "code",
   "execution_count": null,
   "metadata": {},
   "outputs": [],
   "source": [
    "for i, txt in enumerate(raw_data['Status Dasar']):\n",
    "    if txt == 'HIDUP':\n",
    "        raw_data['Status Dasar'][i] = '1'\n",
    "    elif txt == 'MATI':\n",
    "        raw_data['Status Dasar'][i] = '2'\n",
    "    elif txt == 'PINDAH':\n",
    "        raw_data['Status Dasar'][i] = '3'\n",
    "    elif txt == 'HILANG':\n",
    "        raw_data['Status Dasar'][i] = '4'\n",
    "    elif txt == 'PERGI':\n",
    "        raw_data['Status Dasar'][i] = '6'\n",
    "    elif txt == 'TIDAK VALID':\n",
    "        raw_data['Status Dasar'][i] = '9'\n",
    "    elif txt == 'LAINNYA' or txt == '-':\n",
    "        raw_data['Status Dasar'][i] = '99'\n",
    "    \n",
    "raw_data['Status Dasar']"
   ]
  },
  {
   "cell_type": "code",
   "execution_count": null,
   "metadata": {},
   "outputs": [],
   "source": [
    "for i, txt in enumerate(raw_data['KTP EL']):\n",
    "    if txt == 'BELUM':\n",
    "        raw_data['KTP EL'][i] = '1'\n",
    "    elif txt == 'KTP-EL':\n",
    "        raw_data['KTP EL'][i] = '2'\n",
    "raw_data[\"KTP EL\"]"
   ]
  },
  {
   "cell_type": "code",
   "execution_count": null,
   "metadata": {},
   "outputs": [],
   "source": [
    "for i, txt in enumerate(raw_data[\"Golongan Darah\"]):\n",
    "    if txt == 'A':\n",
    "        raw_data['Golongan Darah'][i] = '1'\n",
    "    elif txt == 'B':\n",
    "        raw_data['Golongan Darah'][i] = '2'\n",
    "    elif txt == 'AB':\n",
    "        raw_data['Golongan Darah'][i] = '3'\n",
    "    elif txt == 'O':\n",
    "        raw_data['Golongan Darah'][i] = '4'\n",
    "    elif txt == 'A+':\n",
    "        raw_data['Golongan Darah'][i] = '5'\n",
    "    elif txt == 'A-':\n",
    "        raw_data['Golongan Darah'][i] = '6'\n",
    "    elif txt == 'B+':\n",
    "        raw_data['Golongan Darah'][i] = '7'\n",
    "    elif txt == 'B-':\n",
    "        raw_data['Golongan Darah'][i] = '8'\n",
    "    elif txt == 'AB+':\n",
    "        raw_data['Golongan Darah'][i] = '9'\n",
    "    elif txt == 'AB-':\n",
    "        raw_data['Golongan Darah'][i] = '10'\n",
    "    elif txt == 'O+':\n",
    "        raw_data['Golongan Darah'][i] = '11'\n",
    "    elif txt == 'O-':\n",
    "        raw_data['Golongan Darah'][i] = '12'\n",
    "    elif txt == 'TIDAK TAHU':\n",
    "        raw_data['Golongan Darah'][i] = '13'\n",
    "raw_data[\"Golongan Darah\"]"
   ]
  },
  {
   "cell_type": "code",
   "execution_count": null,
   "metadata": {},
   "outputs": [],
   "source": [
    "# for i, txt in enumerate(raw_data['Pendidikan Sedang Ditempuh']):\n",
    "#     if txt == 'BELUM MASUK TK/KELOMPOK BERMAIN':\n",
    "#         raw_data['Pendidikan Sedang Ditempuh'][i] = '1'\n",
    "#     elif txt == 'SEDANG TK/KELOMPOK BERMAIN':\n",
    "#         raw_data['Pendidikan Sedang Ditempuh'][i] = '2'\n",
    "#     elif txt == 'TIDAK PERNAH SEKOLAH':\n",
    "#         raw_data['Pendidikan Sedang Ditempuh'][i] = '3'\n",
    "#     elif txt == 'SEDANG SD/SEDERAJAT':\n",
    "#         raw_data['Pendidikan Sedang Ditempuh'][i] = '4'\n",
    "#     elif txt == 'TIDAK TAMAT SD/SEDERAJAT':\n",
    "#         raw_data['Pendidikan Sedang Ditempuh'][i] = '5'\n",
    "#     elif txt == 'SEDANG SLTP/SEDERAJAT':\n",
    "#         raw_data['Pendidikan Sedang Ditempuh'][i] = '6'\n",
    "#     elif txt == 'SEDANG SLTA/SEDERAJAT':\n",
    "#         raw_data['Pendidikan Sedang Ditempuh'][i] = '7'\n",
    "#     elif txt == 'SEDANG D-1/SEDERAJAT':\n",
    "#         raw_data['Pendidikan Sedang Ditempuh'][i] = '8'\n",
    "#     elif txt == 'SEDANG D-2/SEDERAJAT':\n",
    "#         raw_data['Pendidikan Sedang Ditempuh'][i] = '9'\n",
    "#     elif txt == 'SEDANG D-3/SEDERAJAT':\n",
    "#         raw_data['Pendidikan Sedang Ditempuh'][i] = '10'\n",
    "#     elif txt == 'SEDANG S-1/SEDERAJAT':\n",
    "#         raw_data['Pendidikan Sedang Ditempuh'][i] = '11'\n",
    "#     elif txt == 'SEDANG S-2/SEDERAJAT':\n",
    "#         raw_data['Pendidikan Sedang Ditempuh'][i] = '12'\n",
    "#     elif txt == 'SEDANG S-3/SEDERAJAT':\n",
    "#         raw_data['Pendidikan Sedang Ditempuh'][i] = '13'\n",
    "#     elif txt == 'SEDANG SLB A/SEDERAJAT':\n",
    "#         raw_data['Pendidikan Sedang Ditempuh'][i] = '14'\n",
    "#     elif txt == 'SEDANG SLB B/SEDERAJAT':\n",
    "#         raw_data['Pendidikan Sedang Ditempuh'][i] = '15'\n",
    "#     elif txt == 'SEDANG SLB C/SEDERAJAT':\n",
    "#         raw_data['Pendidikan Sedang Ditempuh'][i] = '16'\n",
    "#     elif txt == 'TIDAK DAPAT MEMBACA DAN MENULIS HURUF LATIN/ARAB':\n",
    "#         raw_data['Pendidikan Sedang Ditempuh'][i] = '17'\n",
    "#     elif txt == 'TIDAK SEDANG SEKOLAH':\n",
    "#         raw_data['Pendidikan Sedang Ditempuh'][i] = '18'\n",
    "#     else:\n",
    "#         raw_data['Pendidikan Sedang Ditempuh'][i] = '-'\n",
    "# raw_data['Pendidikan Sedang Ditempuh']\n",
    "\n",
    "# for i, txt in enumerate(raw_data['Pendidikan Sedang Ditempuh']):\n",
    "#     raw_data['Pendidikan Sedang Ditempuh'][i] = '4'\n",
    "# raw_data['Pendidikan Sedang Ditempuh']"
   ]
  },
  {
   "cell_type": "code",
   "execution_count": null,
   "metadata": {},
   "outputs": [],
   "source": [
    "for i, txt in enumerate(raw_data[\"Pendidikan Dalam KK\"]):\n",
    "    if txt == 'TIDAK/ BELUM SEKOLAH' or txt == 'TIDAK / BELUM SEKOLAH' or txt == 'OTHERS':\n",
    "        raw_data[\"Pendidikan Dalam KK\"][i] = '1'\n",
    "    elif txt == 'BELUM TAMAT SD/ SEDERAJAT' or txt == 'BELUM TAMAT SD/SEDERAJAT' or txt == 'TIDAK TAMAT SD/ SEDERAJAT':\n",
    "        raw_data[\"Pendidikan Dalam KK\"][i] = '2'\n",
    "    elif txt == 'TAMAT SD/ SEDERAJAT' or txt == 'TAMAT SD / SEDERAJAT' or txt == 'ELEMENTARY SCHOOL' or txt == 'TIDAK TAMAT SMP/SEDERAJAT':\n",
    "        raw_data[\"Pendidikan Dalam KK\"][i] = '3'\n",
    "    elif txt == 'SLTP/ SEDERAJAT' or txt == 'SLTP/SEDERAJAT':\n",
    "        raw_data[\"Pendidikan Dalam KK\"][i] = '4'\n",
    "    elif txt == 'SLTA/ SEDERAJAT' or txt == 'SLTA / SEDERAJAT':\n",
    "        raw_data[\"Pendidikan Dalam KK\"][i] = '5'\n",
    "    elif txt == 'DIPLOMA I/ II' or txt == 'DIPLOMA':\n",
    "        raw_data[\"Pendidikan Dalam KK\"][i] = '6'\n",
    "    elif txt == 'AKADEMI/ DIPLOMA III/ SARJANA MUDA' or txt == 'AKADEMI/ DIPLOMA III/S. MUDA':\n",
    "        raw_data[\"Pendidikan Dalam KK\"][i] = '7'\n",
    "    elif txt == 'DIPLOMA IV/ STRATA I':\n",
    "        raw_data[\"Pendidikan Dalam KK\"][i] = '8'\n",
    "    elif txt == 'STRATA II':\n",
    "        raw_data[\"Pendidikan Dalam KK\"][i] = '9'\n",
    "    elif txt == 'STRATA III':\n",
    "        raw_data[\"Pendidikan Dalam KK\"][i] = '10'\n",
    "\n",
    "raw_data[\"Pendidikan Dalam KK\"]"
   ]
  },
  {
   "cell_type": "code",
   "execution_count": null,
   "metadata": {},
   "outputs": [],
   "source": [
    "raw_data[\"Pendidikan Dalam KK\"].value_counts()"
   ]
  },
  {
   "cell_type": "code",
   "execution_count": null,
   "metadata": {},
   "outputs": [],
   "source": [
    "for i, txt in enumerate(raw_data[\"Status Hubungan Dalam Keluarga\"]):\n",
    "    if txt == 'KEPALA KELUARGA' or txt == 'Kepala Keluarga':\n",
    "        raw_data[\"Status Hubungan Dalam Keluarga\"][i] = '1'\n",
    "    elif txt == 'SUAMI' or txt == 'SUAMI/HUSBAND' or txt == 'AYAH' or txt == 'BAPAK':\n",
    "        raw_data[\"Status Hubungan Dalam Keluarga\"][i] = '2'\n",
    "    elif txt == 'ISTRI' or txt == 'ISTRI/ WIFE' or txt == 'ISTRI/WIFE' or txt == 'Istri' or txt == 'IBU':\n",
    "        raw_data[\"Status Hubungan Dalam Keluarga\"][i] = '3'\n",
    "    elif txt == 'ANAK':\n",
    "        raw_data[\"Status Hubungan Dalam Keluarga\"][i] = '4'\n",
    "    elif txt == 'MENANTU':\n",
    "        raw_data[\"Status Hubungan Dalam Keluarga\"][i] = '5'\n",
    "    elif txt == 'CUCU':\n",
    "        raw_data[\"Status Hubungan Dalam Keluarga\"][i] = '6'\n",
    "    elif txt == 'ORANGTUA' or txt == 'ORANG TUA':\n",
    "        raw_data[\"Status Hubungan Dalam Keluarga\"][i] = '7'\n",
    "    elif txt == 'MERTUA':\n",
    "        raw_data[\"Status Hubungan Dalam Keluarga\"][i] = '8'\n",
    "    elif txt == 'FAMILI LAIN' or txt == 'SAUDARA' or txt == 'FAMILY LAIN' or txt == 'BIBI' or txt == 'PAMAN':\n",
    "        raw_data[\"Status Hubungan Dalam Keluarga\"][i] = '9'\n",
    "    elif txt == 'PEMBANTU':\n",
    "        raw_data[\"Status Hubungan Dalam Keluarga\"][i] = '10'\n",
    "    elif txt == 'LAINNYA' or txt == 'LAIN-LAIN' or txt == 'CERAI MATI' or txt == 'NENEK' or txt == 'KAKEK':\n",
    "        raw_data[\"Status Hubungan Dalam Keluarga\"][i] = '11'\n",
    "raw_data[\"Status Hubungan Dalam Keluarga\"]"
   ]
  },
  {
   "cell_type": "code",
   "execution_count": null,
   "metadata": {},
   "outputs": [],
   "source": [
    "raw_data[\"Status Hubungan Dalam Keluarga\"].value_counts()"
   ]
  },
  {
   "cell_type": "code",
   "execution_count": null,
   "metadata": {},
   "outputs": [],
   "source": [
    "for i, txt in enumerate(raw_data[\"Cacat\"]):\n",
    "    if txt == 'CACAT FISIK':\n",
    "        raw_data[\"Cacat\"][i] = '1'\n",
    "    elif txt == 'CACAT NETRA/BUTA':\n",
    "        raw_data[\"Cacat\"][i] = '2'\n",
    "    elif txt == 'CACAT RUNGU/WICARA':\n",
    "        raw_data[\"Cacat\"][i] = '3'\n",
    "    elif txt == 'CACAT MENTAL/JIWA':\n",
    "        raw_data[\"Cacat\"][i] = '4'\n",
    "    elif txt == 'CACAT FISIK DAN MENTAL':\n",
    "        raw_data[\"Cacat\"][i] = '5'\n",
    "    elif txt == 'CACAT LAINNYA':\n",
    "        raw_data[\"Cacat\"][i] = '6'\n",
    "    elif txt == 'TIDAK CACAT':\n",
    "        raw_data[\"Cacat\"][i] = '7'\n",
    "    else:\n",
    "        raw_data[\"Cacat\"][i] = '7'\n",
    "raw_data[\"Cacat\"]"
   ]
  },
  {
   "cell_type": "code",
   "execution_count": null,
   "metadata": {},
   "outputs": [],
   "source": [
    "for i, txt in enumerate(raw_data[\"Hamil\"]):\n",
    "    raw_data[\"Hamil\"][i] = '1'\n",
    "raw_data[\"Hamil\"]"
   ]
  },
  {
   "cell_type": "code",
   "execution_count": null,
   "metadata": {},
   "outputs": [],
   "source": [
    "raw_data['Hamil'].value_counts()"
   ]
  },
  {
   "cell_type": "code",
   "execution_count": null,
   "metadata": {},
   "outputs": [],
   "source": [
    "# raw_data['NIK'][8301]"
   ]
  },
  {
   "cell_type": "code",
   "execution_count": null,
   "metadata": {},
   "outputs": [],
   "source": [
    "for i, txt in enumerate(raw_data[\"Cara KB\"]):\n",
    "    if txt == 'Pil':\n",
    "        raw_data[\"Cara KB\"][i] = '1'\n",
    "    elif txt == 'IUD':\n",
    "        raw_data[\"Cara KB\"][i] = '2'\n",
    "    elif txt == 'Suntik':\n",
    "        raw_data[\"Cara KB\"][i] = '3'\n",
    "    elif txt == 'Kondom':\n",
    "        raw_data[\"Cara KB\"][i] = '4'\n",
    "    elif txt == 'Susuk KB':\n",
    "        raw_data[\"Cara KB\"][i] = '5'\n",
    "    elif txt == 'Sterilisasi Wanita':\n",
    "        raw_data[\"Cara KB\"][i] = '6'\n",
    "    elif txt == 'Sterilisasi Pria':\n",
    "        raw_data[\"Cara KB\"][i] = '7'\n",
    "    else:\n",
    "        raw_data[\"Cara KB\"][i] = '99'\n",
    "raw_data[\"Cara KB\"]"
   ]
  },
  {
   "cell_type": "code",
   "execution_count": null,
   "metadata": {},
   "outputs": [],
   "source": [
    "raw_data.Cacat.value_counts()"
   ]
  },
  {
   "cell_type": "code",
   "execution_count": null,
   "metadata": {},
   "outputs": [],
   "source": [
    "raw_data['Status Perkawinan'].value_counts()"
   ]
  },
  {
   "cell_type": "code",
   "execution_count": null,
   "metadata": {},
   "outputs": [],
   "source": [
    "raw_data['Status Rekam'].value_counts()"
   ]
  },
  {
   "cell_type": "code",
   "execution_count": null,
   "metadata": {},
   "outputs": [],
   "source": [
    "raw_data['Status Dasar'].value_counts()"
   ]
  },
  {
   "cell_type": "code",
   "execution_count": null,
   "metadata": {},
   "outputs": [],
   "source": [
    "for i, txt in enumerate(raw_data['NIK']):\n",
    "    txt = str(txt)\n",
    "    if len(txt) != 16:\n",
    "        raw_data.drop(i, inplace=True)"
   ]
  },
  {
   "cell_type": "code",
   "execution_count": null,
   "metadata": {},
   "outputs": [],
   "source": [
    "for i, txt in enumerate(raw_data['NO_KK']):\n",
    "    txt = str(txt)\n",
    "    if len(txt) != 16:\n",
    "        raw_data.drop(i, inplace=True)"
   ]
  },
  {
   "cell_type": "code",
   "execution_count": null,
   "metadata": {},
   "outputs": [],
   "source": [
    "for i, txt in enumerate(raw_data['Status Dasar']):\n",
    "    raw_data[\"Status Dasar\"][i] = '1'\n",
    "raw_data['Status Dasar'].value_counts()"
   ]
  },
  {
   "cell_type": "code",
   "execution_count": null,
   "metadata": {},
   "outputs": [],
   "source": [
    "raw_data.DUSUN.value_counts()"
   ]
  },
  {
   "cell_type": "code",
   "execution_count": null,
   "metadata": {},
   "outputs": [],
   "source": [
    "ids = raw_data[\"NO_KK\"]\n",
    "raw_data[ids.isin(ids[ids.duplicated()])]"
   ]
  },
  {
   "cell_type": "code",
   "execution_count": null,
   "metadata": {},
   "outputs": [],
   "source": [
    "raw_data.to_excel(\"format.xlsx\", index=False)"
   ]
  },
  {
   "cell_type": "code",
   "execution_count": null,
   "metadata": {},
   "outputs": [],
   "source": [
    "data = pd.read_excel(\"format.xlsx\", dtype=str) \n",
    "data"
   ]
  },
  {
   "cell_type": "code",
   "execution_count": null,
   "metadata": {},
   "outputs": [],
   "source": [
    "for i, txt in enumerate(data['NO_KK']):\n",
    "    txt = str(txt)\n",
    "    if len(txt) != 16:\n",
    "        print(data['NO_KK'][i], len(txt))"
   ]
  }
 ],
 "metadata": {
  "interpreter": {
   "hash": "3d597f4c481aa0f25dceb95d2a0067e73c0966dcbd003d741d821a7208527ecf"
  },
  "kernelspec": {
   "display_name": "Python 3.9.5 64-bit ('base': conda)",
   "language": "python",
   "name": "python3"
  },
  "language_info": {
   "codemirror_mode": {
    "name": "ipython",
    "version": 3
   },
   "file_extension": ".py",
   "mimetype": "text/x-python",
   "name": "python",
   "nbconvert_exporter": "python",
   "pygments_lexer": "ipython3",
   "version": "3.9.5"
  },
  "orig_nbformat": 4
 },
 "nbformat": 4,
 "nbformat_minor": 2
}
