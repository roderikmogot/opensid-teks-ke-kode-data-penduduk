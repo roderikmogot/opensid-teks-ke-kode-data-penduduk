{
 "cells": [
  {
   "cell_type": "code",
   "execution_count": 909,
   "metadata": {},
   "outputs": [],
   "source": [
    "import pandas as pd"
   ]
  },
  {
   "cell_type": "code",
   "execution_count": 910,
   "metadata": {},
   "outputs": [
    {
     "data": {
      "text/html": [
       "<div>\n",
       "<style scoped>\n",
       "    .dataframe tbody tr th:only-of-type {\n",
       "        vertical-align: middle;\n",
       "    }\n",
       "\n",
       "    .dataframe tbody tr th {\n",
       "        vertical-align: top;\n",
       "    }\n",
       "\n",
       "    .dataframe thead th {\n",
       "        text-align: right;\n",
       "    }\n",
       "</style>\n",
       "<table border=\"1\" class=\"dataframe\">\n",
       "  <thead>\n",
       "    <tr style=\"text-align: right;\">\n",
       "      <th></th>\n",
       "      <th>Alamat</th>\n",
       "      <th>DUSUN</th>\n",
       "      <th>RW</th>\n",
       "      <th>RT</th>\n",
       "      <th>Nama Lengkap</th>\n",
       "      <th>NO_KK</th>\n",
       "      <th>NIK</th>\n",
       "      <th>Jenis Kelamin</th>\n",
       "      <th>Tempat Lahir</th>\n",
       "      <th>Tanggal Lahir</th>\n",
       "      <th>...</th>\n",
       "      <th>Tanggal Perkawinan</th>\n",
       "      <th>Nomor Akta Perceraian</th>\n",
       "      <th>Tanggal Perceraian</th>\n",
       "      <th>Cacat</th>\n",
       "      <th>Cara KB</th>\n",
       "      <th>Hamil</th>\n",
       "      <th>KTP EL</th>\n",
       "      <th>Status Rekam</th>\n",
       "      <th>Alamat Sekarang</th>\n",
       "      <th>Status Dasar</th>\n",
       "    </tr>\n",
       "  </thead>\n",
       "  <tbody>\n",
       "    <tr>\n",
       "      <th>0</th>\n",
       "      <td>TEMPEKAN SELONDING,BR.KANGIN PECATU</td>\n",
       "      <td>KANGIN</td>\n",
       "      <td>0</td>\n",
       "      <td>0</td>\n",
       "      <td>I WAYAN SUMERTA</td>\n",
       "      <td>5103050903070301</td>\n",
       "      <td>5103053112640221</td>\n",
       "      <td>L</td>\n",
       "      <td>BADUNG</td>\n",
       "      <td>1964-12-31 00:00:00</td>\n",
       "      <td>...</td>\n",
       "      <td>1986-10-07 00:00:00</td>\n",
       "      <td>-</td>\n",
       "      <td>-</td>\n",
       "      <td>-</td>\n",
       "      <td>-</td>\n",
       "      <td>-</td>\n",
       "      <td>-</td>\n",
       "      <td>-</td>\n",
       "      <td>0</td>\n",
       "      <td>1</td>\n",
       "    </tr>\n",
       "    <tr>\n",
       "      <th>1</th>\n",
       "      <td>TEMPEKAN SELONDING,BR.KANGIN PECATU</td>\n",
       "      <td>KANGIN</td>\n",
       "      <td>0</td>\n",
       "      <td>0</td>\n",
       "      <td>NI WAYAN MARSI</td>\n",
       "      <td>5103050903070301</td>\n",
       "      <td>5103057112640207</td>\n",
       "      <td>P</td>\n",
       "      <td>BADUNG</td>\n",
       "      <td>1964-12-31 00:00:00</td>\n",
       "      <td>...</td>\n",
       "      <td>1986-10-07 00:00:00</td>\n",
       "      <td>-</td>\n",
       "      <td>-</td>\n",
       "      <td>-</td>\n",
       "      <td>-</td>\n",
       "      <td>-</td>\n",
       "      <td>-</td>\n",
       "      <td>-</td>\n",
       "      <td>0</td>\n",
       "      <td>1</td>\n",
       "    </tr>\n",
       "    <tr>\n",
       "      <th>2</th>\n",
       "      <td>TEMPEKAN SELONDING,BR.KANGIN PECATU</td>\n",
       "      <td>KANGIN</td>\n",
       "      <td>0</td>\n",
       "      <td>0</td>\n",
       "      <td>I KADEK PURNAMA ADI PUTRA</td>\n",
       "      <td>5103050903070301</td>\n",
       "      <td>5103051502950003</td>\n",
       "      <td>L</td>\n",
       "      <td>DENPASAR</td>\n",
       "      <td>1995-02-15 00:00:00</td>\n",
       "      <td>...</td>\n",
       "      <td>-</td>\n",
       "      <td>-</td>\n",
       "      <td>-</td>\n",
       "      <td>-</td>\n",
       "      <td>-</td>\n",
       "      <td>-</td>\n",
       "      <td>-</td>\n",
       "      <td>-</td>\n",
       "      <td>0</td>\n",
       "      <td>1</td>\n",
       "    </tr>\n",
       "    <tr>\n",
       "      <th>3</th>\n",
       "      <td>TEMPEKAN SELONDING,BR.DINAS KANGIN PECATU</td>\n",
       "      <td>KANGIN</td>\n",
       "      <td>0</td>\n",
       "      <td>0</td>\n",
       "      <td>I MADE SUMADIA,S.PD</td>\n",
       "      <td>5103051506090032</td>\n",
       "      <td>5103052512650016</td>\n",
       "      <td>L</td>\n",
       "      <td>PECATU</td>\n",
       "      <td>1965-12-25 00:00:00</td>\n",
       "      <td>...</td>\n",
       "      <td>1989-07-12 00:00:00</td>\n",
       "      <td>-</td>\n",
       "      <td>-</td>\n",
       "      <td>-</td>\n",
       "      <td>-</td>\n",
       "      <td>-</td>\n",
       "      <td>-</td>\n",
       "      <td>-</td>\n",
       "      <td>0</td>\n",
       "      <td>1</td>\n",
       "    </tr>\n",
       "    <tr>\n",
       "      <th>4</th>\n",
       "      <td>TEMPEKAN SELONDING,BR.DINAS KANGIN PECATU</td>\n",
       "      <td>KANGIN</td>\n",
       "      <td>0</td>\n",
       "      <td>0</td>\n",
       "      <td>NI KETUT PADMAWATI</td>\n",
       "      <td>5103051506090032</td>\n",
       "      <td>5103054502660002</td>\n",
       "      <td>P</td>\n",
       "      <td>BADUNG</td>\n",
       "      <td>1966-02-05 00:00:00</td>\n",
       "      <td>...</td>\n",
       "      <td>1989-07-12 00:00:00</td>\n",
       "      <td>-</td>\n",
       "      <td>-</td>\n",
       "      <td>-</td>\n",
       "      <td>-</td>\n",
       "      <td>-</td>\n",
       "      <td>-</td>\n",
       "      <td>-</td>\n",
       "      <td>0</td>\n",
       "      <td>1</td>\n",
       "    </tr>\n",
       "    <tr>\n",
       "      <th>...</th>\n",
       "      <td>...</td>\n",
       "      <td>...</td>\n",
       "      <td>...</td>\n",
       "      <td>...</td>\n",
       "      <td>...</td>\n",
       "      <td>...</td>\n",
       "      <td>...</td>\n",
       "      <td>...</td>\n",
       "      <td>...</td>\n",
       "      <td>...</td>\n",
       "      <td>...</td>\n",
       "      <td>...</td>\n",
       "      <td>...</td>\n",
       "      <td>...</td>\n",
       "      <td>...</td>\n",
       "      <td>...</td>\n",
       "      <td>...</td>\n",
       "      <td>...</td>\n",
       "      <td>...</td>\n",
       "      <td>...</td>\n",
       "      <td>...</td>\n",
       "    </tr>\n",
       "    <tr>\n",
       "      <th>1632</th>\n",
       "      <td>-</td>\n",
       "      <td>-</td>\n",
       "      <td>Setiap baris di atas berisi formula yang mendu...</td>\n",
       "      <td>-</td>\n",
       "      <td>-</td>\n",
       "      <td>-</td>\n",
       "      <td>-</td>\n",
       "      <td>-</td>\n",
       "      <td>-</td>\n",
       "      <td>-</td>\n",
       "      <td>...</td>\n",
       "      <td>-</td>\n",
       "      <td>-</td>\n",
       "      <td>-</td>\n",
       "      <td>-</td>\n",
       "      <td>-</td>\n",
       "      <td>-</td>\n",
       "      <td>-</td>\n",
       "      <td>-</td>\n",
       "      <td>-</td>\n",
       "      <td>-</td>\n",
       "    </tr>\n",
       "    <tr>\n",
       "      <th>1633</th>\n",
       "      <td>-</td>\n",
       "      <td>-</td>\n",
       "      <td>Untuk mengaktifkan formula di baris-baris di a...</td>\n",
       "      <td>-</td>\n",
       "      <td>-</td>\n",
       "      <td>-</td>\n",
       "      <td>-</td>\n",
       "      <td>-</td>\n",
       "      <td>-</td>\n",
       "      <td>-</td>\n",
       "      <td>...</td>\n",
       "      <td>-</td>\n",
       "      <td>-</td>\n",
       "      <td>-</td>\n",
       "      <td>-</td>\n",
       "      <td>-</td>\n",
       "      <td>-</td>\n",
       "      <td>-</td>\n",
       "      <td>-</td>\n",
       "      <td>-</td>\n",
       "      <td>-</td>\n",
       "    </tr>\n",
       "    <tr>\n",
       "      <th>1634</th>\n",
       "      <td>-</td>\n",
       "      <td>-</td>\n",
       "      <td>-</td>\n",
       "      <td>-</td>\n",
       "      <td>-</td>\n",
       "      <td>-</td>\n",
       "      <td>-</td>\n",
       "      <td>-</td>\n",
       "      <td>-</td>\n",
       "      <td>-</td>\n",
       "      <td>...</td>\n",
       "      <td>-</td>\n",
       "      <td>-</td>\n",
       "      <td>-</td>\n",
       "      <td>-</td>\n",
       "      <td>-</td>\n",
       "      <td>-</td>\n",
       "      <td>-</td>\n",
       "      <td>-</td>\n",
       "      <td>-</td>\n",
       "      <td>-</td>\n",
       "    </tr>\n",
       "    <tr>\n",
       "      <th>1635</th>\n",
       "      <td>-</td>\n",
       "      <td>-</td>\n",
       "      <td>Apabila baris di atas bagian hijau ini telah t...</td>\n",
       "      <td>-</td>\n",
       "      <td>-</td>\n",
       "      <td>-</td>\n",
       "      <td>-</td>\n",
       "      <td>-</td>\n",
       "      <td>-</td>\n",
       "      <td>-</td>\n",
       "      <td>...</td>\n",
       "      <td>-</td>\n",
       "      <td>-</td>\n",
       "      <td>-</td>\n",
       "      <td>-</td>\n",
       "      <td>-</td>\n",
       "      <td>-</td>\n",
       "      <td>-</td>\n",
       "      <td>-</td>\n",
       "      <td>-</td>\n",
       "      <td>-</td>\n",
       "    </tr>\n",
       "    <tr>\n",
       "      <th>1636</th>\n",
       "      <td>-</td>\n",
       "      <td>-</td>\n",
       "      <td>Misalnya, apabila baris terakhir di atas adala...</td>\n",
       "      <td>-</td>\n",
       "      <td>-</td>\n",
       "      <td>-</td>\n",
       "      <td>-</td>\n",
       "      <td>-</td>\n",
       "      <td>-</td>\n",
       "      <td>-</td>\n",
       "      <td>...</td>\n",
       "      <td>-</td>\n",
       "      <td>-</td>\n",
       "      <td>-</td>\n",
       "      <td>-</td>\n",
       "      <td>-</td>\n",
       "      <td>-</td>\n",
       "      <td>-</td>\n",
       "      <td>-</td>\n",
       "      <td>-</td>\n",
       "      <td>-</td>\n",
       "    </tr>\n",
       "  </tbody>\n",
       "</table>\n",
       "<p>1637 rows × 37 columns</p>\n",
       "</div>"
      ],
      "text/plain": [
       "                                         Alamat   DUSUN  \\\n",
       "0           TEMPEKAN SELONDING,BR.KANGIN PECATU  KANGIN   \n",
       "1           TEMPEKAN SELONDING,BR.KANGIN PECATU  KANGIN   \n",
       "2           TEMPEKAN SELONDING,BR.KANGIN PECATU  KANGIN   \n",
       "3     TEMPEKAN SELONDING,BR.DINAS KANGIN PECATU  KANGIN   \n",
       "4     TEMPEKAN SELONDING,BR.DINAS KANGIN PECATU  KANGIN   \n",
       "...                                         ...     ...   \n",
       "1632                                          -       -   \n",
       "1633                                          -       -   \n",
       "1634                                          -       -   \n",
       "1635                                          -       -   \n",
       "1636                                          -       -   \n",
       "\n",
       "                                                     RW RT  \\\n",
       "0                                                     0  0   \n",
       "1                                                     0  0   \n",
       "2                                                     0  0   \n",
       "3                                                     0  0   \n",
       "4                                                     0  0   \n",
       "...                                                 ... ..   \n",
       "1632  Setiap baris di atas berisi formula yang mendu...  -   \n",
       "1633  Untuk mengaktifkan formula di baris-baris di a...  -   \n",
       "1634                                                  -  -   \n",
       "1635  Apabila baris di atas bagian hijau ini telah t...  -   \n",
       "1636  Misalnya, apabila baris terakhir di atas adala...  -   \n",
       "\n",
       "                   Nama Lengkap             NO_KK               NIK  \\\n",
       "0               I WAYAN SUMERTA  5103050903070301  5103053112640221   \n",
       "1                NI WAYAN MARSI  5103050903070301  5103057112640207   \n",
       "2     I KADEK PURNAMA ADI PUTRA  5103050903070301  5103051502950003   \n",
       "3           I MADE SUMADIA,S.PD  5103051506090032  5103052512650016   \n",
       "4            NI KETUT PADMAWATI  5103051506090032  5103054502660002   \n",
       "...                         ...               ...               ...   \n",
       "1632                          -                 -                 -   \n",
       "1633                          -                 -                 -   \n",
       "1634                          -                 -                 -   \n",
       "1635                          -                 -                 -   \n",
       "1636                          -                 -                 -   \n",
       "\n",
       "     Jenis Kelamin Tempat Lahir        Tanggal Lahir  ...  \\\n",
       "0                L       BADUNG  1964-12-31 00:00:00  ...   \n",
       "1                P       BADUNG  1964-12-31 00:00:00  ...   \n",
       "2                L     DENPASAR  1995-02-15 00:00:00  ...   \n",
       "3                L       PECATU  1965-12-25 00:00:00  ...   \n",
       "4                P       BADUNG  1966-02-05 00:00:00  ...   \n",
       "...            ...          ...                  ...  ...   \n",
       "1632             -            -                    -  ...   \n",
       "1633             -            -                    -  ...   \n",
       "1634             -            -                    -  ...   \n",
       "1635             -            -                    -  ...   \n",
       "1636             -            -                    -  ...   \n",
       "\n",
       "       Tanggal Perkawinan Nomor Akta Perceraian Tanggal Perceraian Cacat  \\\n",
       "0     1986-10-07 00:00:00                     -                  -     -   \n",
       "1     1986-10-07 00:00:00                     -                  -     -   \n",
       "2                       -                     -                  -     -   \n",
       "3     1989-07-12 00:00:00                     -                  -     -   \n",
       "4     1989-07-12 00:00:00                     -                  -     -   \n",
       "...                   ...                   ...                ...   ...   \n",
       "1632                    -                     -                  -     -   \n",
       "1633                    -                     -                  -     -   \n",
       "1634                    -                     -                  -     -   \n",
       "1635                    -                     -                  -     -   \n",
       "1636                    -                     -                  -     -   \n",
       "\n",
       "     Cara KB Hamil KTP EL Status Rekam Alamat Sekarang Status Dasar  \n",
       "0          -     -      -            -               0            1  \n",
       "1          -     -      -            -               0            1  \n",
       "2          -     -      -            -               0            1  \n",
       "3          -     -      -            -               0            1  \n",
       "4          -     -      -            -               0            1  \n",
       "...      ...   ...    ...          ...             ...          ...  \n",
       "1632       -     -      -            -               -            -  \n",
       "1633       -     -      -            -               -            -  \n",
       "1634       -     -      -            -               -            -  \n",
       "1635       -     -      -            -               -            -  \n",
       "1636       -     -      -            -               -            -  \n",
       "\n",
       "[1637 rows x 37 columns]"
      ]
     },
     "execution_count": 910,
     "metadata": {},
     "output_type": "execute_result"
    }
   ],
   "source": [
    "raw_data = pd.read_excel(\"FormatImportExcel (2) (2).xlsm\", dtype=str, sheet_name=\"Data Penduduk\") \n",
    "raw_data"
   ]
  },
  {
   "cell_type": "code",
   "execution_count": 911,
   "metadata": {},
   "outputs": [
    {
     "data": {
      "text/plain": [
       "1637"
      ]
     },
     "execution_count": 911,
     "metadata": {},
     "output_type": "execute_result"
    }
   ],
   "source": [
    "raw_data[\"NIK\"].notna().sum()"
   ]
  },
  {
   "cell_type": "code",
   "execution_count": 912,
   "metadata": {},
   "outputs": [
    {
     "data": {
      "text/plain": [
       "0       1\n",
       "1       2\n",
       "2       1\n",
       "3       1\n",
       "4       2\n",
       "       ..\n",
       "1632    -\n",
       "1633    -\n",
       "1634    -\n",
       "1635    -\n",
       "1636    -\n",
       "Name: Jenis Kelamin, Length: 1637, dtype: object"
      ]
     },
     "execution_count": 912,
     "metadata": {},
     "output_type": "execute_result"
    }
   ],
   "source": [
    "for i, txt in enumerate(raw_data['Jenis Kelamin']):\n",
    "    if txt == 'L':\n",
    "        raw_data['Jenis Kelamin'][i] = '1'\n",
    "    elif txt == 'P':\n",
    "        raw_data['Jenis Kelamin'][i] = '2'\n",
    "raw_data[\"Jenis Kelamin\"]"
   ]
  },
  {
   "cell_type": "code",
   "execution_count": 913,
   "metadata": {},
   "outputs": [
    {
     "data": {
      "text/plain": [
       "0       1\n",
       "1       1\n",
       "2       1\n",
       "3       1\n",
       "4       1\n",
       "       ..\n",
       "1632    -\n",
       "1633    -\n",
       "1634    -\n",
       "1635    -\n",
       "1636    -\n",
       "Name: Kewarganegaraan, Length: 1637, dtype: object"
      ]
     },
     "execution_count": 913,
     "metadata": {},
     "output_type": "execute_result"
    }
   ],
   "source": [
    "for i, txt in enumerate(raw_data['Kewarganegaraan']):\n",
    "    if txt == 'WNI':\n",
    "        raw_data['Kewarganegaraan'][i] = '1'\n",
    "    elif txt == 'WNA':\n",
    "        raw_data['Kewarganegaraan'][i] = '2'\n",
    "raw_data['Kewarganegaraan']"
   ]
  },
  {
   "cell_type": "code",
   "execution_count": 914,
   "metadata": {},
   "outputs": [
    {
     "data": {
      "text/plain": [
       "0       15\n",
       "1       88\n",
       "2       15\n",
       "3       15\n",
       "4       88\n",
       "        ..\n",
       "1632     -\n",
       "1633     -\n",
       "1634     -\n",
       "1635     -\n",
       "1636     -\n",
       "Name: Pekerjaan, Length: 1637, dtype: object"
      ]
     },
     "execution_count": 914,
     "metadata": {},
     "output_type": "execute_result"
    }
   ],
   "source": [
    "for i, txt in enumerate(raw_data['Pekerjaan']):\n",
    "    if txt == 'BELUM/ TIDAK BEKERJA':\n",
    "        raw_data['Pekerjaan'][i] = '1'\n",
    "    elif txt == 'MENGURUS RUMAH TANGGA':\n",
    "        raw_data['Pekerjaan'][i] = '2'\n",
    "    elif txt == 'PELAJAR/ MAHASISWA':\n",
    "        raw_data['Pekerjaan'][i] = '3'\n",
    "    elif txt == 'PENSIUNAN':\n",
    "        raw_data['Pekerjaan'][i] = '4'\n",
    "    elif txt == 'PEGAWAI NEGERI SIPIL':\n",
    "        raw_data['Pekerjaan'][i] = '5'\n",
    "    elif txt == 'TENTARA NASIONAL INDONESIA (TNI)':\n",
    "        raw_data['Pekerjaan'][i] = '6'\n",
    "    elif txt == 'KEPOLISIAN RI (POLRI)':\n",
    "        raw_data['Pekerjaan'][i] = '7'\n",
    "    elif txt == 'PERDAGANGAN':\n",
    "        raw_data['Pekerjaan'][i] = '8'\n",
    "    elif txt == 'PETANI/ PEKEBUN':\n",
    "        raw_data['Pekerjaan'][i] = '9'\n",
    "    elif txt == 'PETERNAK':\n",
    "        raw_data['Pekerjaan'][i] = '10'\n",
    "    elif txt == 'NELAYAN/PERIKANAN':\n",
    "        raw_data['Pekerjaan'][i] = '11'\n",
    "    elif txt == 'INDUSTRI':\n",
    "        raw_data['Pekerjaan'][i] = '12'\n",
    "    elif txt == 'KONSTRUKSI':\n",
    "        raw_data['Pekerjaan'][i] = '13'\n",
    "    elif txt == 'TRANSPORTASI':\n",
    "        raw_data['Pekerjaan'][i] = '14'\n",
    "    elif txt == 'KARYAWAN SWASTA':\n",
    "        raw_data['Pekerjaan'][i] = '15'\n",
    "    elif txt == 'KARYAWAN BUMN':\n",
    "        raw_data['Pekerjaan'][i] = '16'\n",
    "    elif txt == 'KARYAWAN BUMD':\n",
    "        raw_data['Pekerjaan'][i] = '17'\n",
    "    elif txt == 'KARYAWAN HONORER':\n",
    "        raw_data['Pekerjaan'][i] = '18'\n",
    "    elif txt == 'BURUH HARIAN LEPAS':\n",
    "        raw_data['Pekerjaan'][i] = '19'\n",
    "    elif txt == 'BURUH TANI/ PERKEBUNAN':\n",
    "        raw_data['Pekerjaan'][i] = '20'\n",
    "    elif txt == 'BURUH NELAYAN/ PERIKANAN':\n",
    "        raw_data['Pekerjaan'][i] = '21'\n",
    "    elif txt == 'BURUH PETERNAKAN':\n",
    "        raw_data['Pekerjaan'][i] = '22'\n",
    "    elif txt == 'PEMBANTU RUMAH TANGGA':\n",
    "        raw_data['Pekerjaan'][i] = '23'\n",
    "    elif txt == 'TUKANG CUKUR':\n",
    "        raw_data['Pekerjaan'][i] = '24'\n",
    "    elif txt == 'TUKANG LISTRIK':\n",
    "        raw_data['Pekerjaan'][i] = '25'\n",
    "    elif txt == 'TUKANG BATU':\n",
    "        raw_data['Pekerjaan'][i] = '26'\n",
    "    elif txt == 'TUKANG KAYU':\n",
    "        raw_data['Pekerjaan'][i] = '27'\n",
    "    elif txt == 'TUKANG SOL SEPATU':\n",
    "        raw_data['Pekerjaan'][i] = '28'\n",
    "    elif txt == 'TUKANG LAS/ PANDAI BESI':\n",
    "        raw_data['Pekerjaan'][i] = '29'\n",
    "    elif txt == 'TUKANG JAHIT':\n",
    "        raw_data['Pekerjaan'][i] = '30'\n",
    "    elif txt == 'TUKANG GIGI':\n",
    "        raw_data['Pekerjaan'][i] = '31'\n",
    "    elif txt == 'PENATA RIAS':\n",
    "        raw_data['Pekerjaan'][i] = '32'\n",
    "    elif txt == 'PENATA BUSANA':\n",
    "        raw_data['Pekerjaan'][i] = '33'\n",
    "    elif txt == 'PENATA RAMBUT':\n",
    "        raw_data['Pekerjaan'][i] = '34'\n",
    "    elif txt == 'MEKANIK':\n",
    "        raw_data['Pekerjaan'][i] = '35'\n",
    "    elif txt == 'SENIMAN':\n",
    "        raw_data['Pekerjaan'][i] = '36'\n",
    "    elif txt == 'TABIB':\n",
    "        raw_data['Pekerjaan'][i] = '37'\n",
    "    elif txt == 'PARAJI':\n",
    "        raw_data['Pekerjaan'][i] = '38'\n",
    "    elif txt == 'PERANCANG BUSANA':\n",
    "        raw_data['Pekerjaan'][i] = '39'\n",
    "    elif txt == 'PENTERJEMAH':\n",
    "        raw_data['Pekerjaan'][i] = '40'\n",
    "    elif txt == 'IMAM MASJID':\n",
    "        raw_data['Pekerjaan'][i] = '41'\n",
    "    elif txt == 'PENDETA':\n",
    "        raw_data['Pekerjaan'][i] = '42'\n",
    "    elif txt == 'PASTOR':\n",
    "        raw_data['Pekerjaan'][i] = '43'\n",
    "    elif txt == 'WARTAWAN':\n",
    "        raw_data['Pekerjaan'][i] = '44'\n",
    "    elif txt == 'USTADZ/MUBALIGH':\n",
    "        raw_data['Pekerjaan'][i] = '45'\n",
    "    elif txt == 'JURU MASAK':\n",
    "        raw_data['Pekerjaan'][i] = '46'\n",
    "    elif txt == 'PROMOTOR ACARA':\n",
    "        raw_data['Pekerjaan'][i] = '47'\n",
    "    elif txt == 'ANGGOTA DPR-RI':\n",
    "        raw_data['Pekerjaan'][i] = '48'\n",
    "    elif txt == 'ANGGOTA DPD':\n",
    "        raw_data['Pekerjaan'][i] = '49'\n",
    "    elif txt == 'ANGGOTA BPK':\n",
    "        raw_data['Pekerjaan'][i] = '50'\n",
    "    elif txt == 'PRESIDEN':\n",
    "        raw_data['Pekerjaan'][i] = '51'\n",
    "    elif txt == 'WAKIL PRESIDEN':\n",
    "        raw_data['Pekerjaan'][i] = '52'\n",
    "    elif txt == 'ANGGOTA MAHKAMAH KONSTITUSI':\n",
    "        raw_data['Pekerjaan'][i] = '53'\n",
    "    elif txt == 'ANGGOTA KABINET KEMENTERIAN':\n",
    "        raw_data['Pekerjaan'][i] = '54'    \n",
    "    elif txt == 'DUTA BESAR':\n",
    "        raw_data['Pekerjaan'][i] = '55'\n",
    "    elif txt == 'GUBERNUR':\n",
    "        raw_data['Pekerjaan'][i] = '56'\n",
    "    elif txt == 'WAKIL GUBERNUR':\n",
    "        raw_data['Pekerjaan'][i] = '57'\n",
    "    elif txt == 'BUPATI':\n",
    "        raw_data['Pekerjaan'][i] = '58'\n",
    "    elif txt == 'WAKIL BUPATI':\n",
    "        raw_data['Pekerjaan'][i] = '59'\n",
    "    elif txt == 'WALIKOTA':\n",
    "        raw_data['Pekerjaan'][i] = '60'\n",
    "    elif txt == 'WAKIL WALIKOTA':\n",
    "        raw_data['Pekerjaan'][i] = '61'\n",
    "    elif txt == 'ANGGOTA DPRD PROVINSI':\n",
    "        raw_data['Pekerjaan'][i] = '62'\n",
    "    elif txt == 'ANGGOTA DPRD KABUPATEN/KOTA':\n",
    "        raw_data['Pekerjaan'][i] = '63'\n",
    "    elif txt == 'DOSEN':\n",
    "        raw_data['Pekerjaan'][i] = '64'\n",
    "    elif txt == 'GURU':\n",
    "        raw_data['Pekerjaan'][i] = '65'\n",
    "    elif txt == 'PILOT':\n",
    "        raw_data['Pekerjaan'][i] = '66'\n",
    "    elif txt == 'PENGACARA':\n",
    "        raw_data['Pekerjaan'][i] = '67'\n",
    "    elif txt == 'NOTARIS':\n",
    "        raw_data['Pekerjaan'][i] = '68'\n",
    "    elif txt == 'ARSITEK':\n",
    "        raw_data['Pekerjaan'][i] = '69'\n",
    "    elif txt == 'AKUNTAN':\n",
    "        raw_data['Pekerjaan'][i] = '70'\n",
    "    elif txt == 'KONSULTAN':\n",
    "        raw_data['Pekerjaan'][i] = '71'\n",
    "    elif txt == 'DOKTER':\n",
    "        raw_data['Pekerjaan'][i] = '72'\n",
    "    elif txt == 'BIDAN':\n",
    "        raw_data['Pekerjaan'][i] = '73'\n",
    "    elif txt == 'PERAWAT':\n",
    "        raw_data['Pekerjaan'][i] = '74'\n",
    "    elif txt == 'APOTEKER':\n",
    "        raw_data['Pekerjaan'][i] = '75'\n",
    "    elif txt == 'PSIKIATER/ PSIKOLOG':\n",
    "        raw_data['Pekerjaan'][i] = '76'\n",
    "    elif txt == 'PENYIAR TELEVISI':\n",
    "        raw_data['Pekerjaan'][i] = '77'\n",
    "    elif txt == 'PENYIAR RADIO':\n",
    "        raw_data['Pekerjaan'][i] = '78'\n",
    "    elif txt == 'PELAUT':\n",
    "        raw_data['Pekerjaan'][i] = '79'\n",
    "    elif txt == 'PENELITI':\n",
    "        raw_data['Pekerjaan'][i] = '80'\n",
    "    elif txt == 'SOPIR':\n",
    "        raw_data['Pekerjaan'][i] = '81'\n",
    "    elif txt == 'PIALANG':\n",
    "        raw_data['Pekerjaan'][i] = '82'\n",
    "    elif txt == 'PARANORMAL':\n",
    "        raw_data['Pekerjaan'][i] = '83'\n",
    "    elif txt == 'PEDAGANG':\n",
    "        raw_data['Pekerjaan'][i] = '84'\n",
    "    elif txt == 'PERANGKAT DESA':\n",
    "        raw_data['Pekerjaan'][i] = '85'\n",
    "    elif txt == 'KEPALA DESA':\n",
    "        raw_data['Pekerjaan'][i] = '86'\n",
    "    elif txt == 'BIARAWATI':\n",
    "        raw_data['Pekerjaan'][i] = '87'\n",
    "    elif txt == 'WIRASWASTA' or txt == 'OTHERS' or txt == 'TRADING & INDUSTRY' or txt == 'TOURISM':   \n",
    "        raw_data['Pekerjaan'][i] = '88'\n",
    "raw_data['Pekerjaan']"
   ]
  },
  {
   "cell_type": "code",
   "execution_count": 915,
   "metadata": {},
   "outputs": [
    {
     "data": {
      "text/plain": [
       "15    461\n",
       "1     356\n",
       "3     297\n",
       "88    232\n",
       "9     154\n",
       "2      86\n",
       "5      22\n",
       "-       6\n",
       "4       3\n",
       "16      3\n",
       "20      3\n",
       "84      3\n",
       "65      2\n",
       "18      2\n",
       "10      2\n",
       "8       2\n",
       "72      1\n",
       "67      1\n",
       "14      1\n",
       "Name: Pekerjaan, dtype: int64"
      ]
     },
     "execution_count": 915,
     "metadata": {},
     "output_type": "execute_result"
    }
   ],
   "source": [
    "raw_data[\"Pekerjaan\"].value_counts()"
   ]
  },
  {
   "cell_type": "code",
   "execution_count": 916,
   "metadata": {},
   "outputs": [
    {
     "data": {
      "text/plain": [
       "0       2\n",
       "1       2\n",
       "2       1\n",
       "3       2\n",
       "4       2\n",
       "       ..\n",
       "1632    -\n",
       "1633    -\n",
       "1634    -\n",
       "1635    -\n",
       "1636    -\n",
       "Name: Status Perkawinan, Length: 1637, dtype: object"
      ]
     },
     "execution_count": 916,
     "metadata": {},
     "output_type": "execute_result"
    }
   ],
   "source": [
    "for i, txt in enumerate(raw_data['Status Perkawinan']):\n",
    "    if txt == 'BELUM KAWIN' or txt == 'BELUM KAWIN ':\n",
    "        raw_data['Status Perkawinan'][i] = '1'\n",
    "    elif txt == 'KAWIN' or txt == 'KAWIN TERCATAT' or txt == 'KAWIN ' or txt == 'KAWIN BELUM TERCATAT' or txt == 'MARRIED' or txt == '10':\n",
    "        raw_data['Status Perkawinan'][i] = '2'\n",
    "    elif txt == 'CERAI HIDUP' or txt == 'CERAI HIDUP TERCATAT' or txt == 'CERAI HIDUP BELUM TERCATAT' or txt == 'DIVORCED':\n",
    "        raw_data['Status Perkawinan'][i] = '3'\n",
    "    elif txt == 'CERAI MATI' or txt == 'JANDA':\n",
    "        raw_data['Status Perkawinan'][i] = '4'\n",
    "raw_data['Status Perkawinan']"
   ]
  },
  {
   "cell_type": "code",
   "execution_count": 917,
   "metadata": {},
   "outputs": [
    {
     "data": {
      "text/plain": [
       "2    814\n",
       "1    702\n",
       "4     90\n",
       "3     25\n",
       "-      6\n",
       "Name: Status Perkawinan, dtype: int64"
      ]
     },
     "execution_count": 917,
     "metadata": {},
     "output_type": "execute_result"
    }
   ],
   "source": [
    "raw_data[\"Status Perkawinan\"].value_counts()"
   ]
  },
  {
   "cell_type": "code",
   "execution_count": 918,
   "metadata": {},
   "outputs": [
    {
     "data": {
      "text/plain": [
       "0       4\n",
       "1       4\n",
       "2       4\n",
       "3       4\n",
       "4       4\n",
       "       ..\n",
       "1632    -\n",
       "1633    -\n",
       "1634    -\n",
       "1635    -\n",
       "1636    -\n",
       "Name: Agama, Length: 1637, dtype: object"
      ]
     },
     "execution_count": 918,
     "metadata": {},
     "output_type": "execute_result"
    }
   ],
   "source": [
    "for i, txt in enumerate(raw_data['Agama']):\n",
    "    if txt == 'ISLAM':\n",
    "        raw_data['Agama'][i] = '1'\n",
    "    elif txt == 'KRISTEN':\n",
    "        raw_data['Agama'][i] = '2'\n",
    "    elif txt == 'KATHOLIK':\n",
    "        raw_data['Agama'][i] = '3'\n",
    "    elif txt == 'HINDU' or txt == 'Hindu':\n",
    "        raw_data['Agama'][i] = '4'\n",
    "    elif txt == 'BUDHA':\n",
    "        raw_data['Agama'][i] = '5'\n",
    "    elif txt == 'KHONGHUCU':\n",
    "        raw_data['Agama'][i] = '6'\n",
    "    elif txt == 'Kepercayaan Terhadap Tuhan YME / Lainnya' or txt == 'KEPERCAYAAN TERHADAP TUHAN YME':\n",
    "        raw_data['Agama'][i] = '7'\n",
    "raw_data[\"Agama\"]"
   ]
  },
  {
   "cell_type": "code",
   "execution_count": 919,
   "metadata": {},
   "outputs": [
    {
     "data": {
      "text/plain": [
       "4    1532\n",
       "1      57\n",
       "2      22\n",
       "3      17\n",
       "-       6\n",
       "5       2\n",
       "7       1\n",
       "Name: Agama, dtype: int64"
      ]
     },
     "execution_count": 919,
     "metadata": {},
     "output_type": "execute_result"
    }
   ],
   "source": [
    "raw_data[\"Agama\"].value_counts()"
   ]
  },
  {
   "cell_type": "code",
   "execution_count": 920,
   "metadata": {},
   "outputs": [
    {
     "data": {
      "text/plain": [
       "0        1\n",
       "1        1\n",
       "2        1\n",
       "3        1\n",
       "4        1\n",
       "        ..\n",
       "1632    99\n",
       "1633    99\n",
       "1634    99\n",
       "1635    99\n",
       "1636    99\n",
       "Name: Status Dasar, Length: 1637, dtype: object"
      ]
     },
     "execution_count": 920,
     "metadata": {},
     "output_type": "execute_result"
    }
   ],
   "source": [
    "for i, txt in enumerate(raw_data['Status Dasar']):\n",
    "    if txt == 'HIDUP':\n",
    "        raw_data['Status Dasar'][i] = '1'\n",
    "    elif txt == 'MATI':\n",
    "        raw_data['Status Dasar'][i] = '2'\n",
    "    elif txt == 'PINDAH':\n",
    "        raw_data['Status Dasar'][i] = '3'\n",
    "    elif txt == 'HILANG':\n",
    "        raw_data['Status Dasar'][i] = '4'\n",
    "    elif txt == 'PERGI':\n",
    "        raw_data['Status Dasar'][i] = '6'\n",
    "    elif txt == 'TIDAK VALID':\n",
    "        raw_data['Status Dasar'][i] = '9'\n",
    "    elif txt == 'LAINNYA' or txt == '-':\n",
    "        raw_data['Status Dasar'][i] = '99'\n",
    "    \n",
    "raw_data['Status Dasar']"
   ]
  },
  {
   "cell_type": "code",
   "execution_count": 921,
   "metadata": {},
   "outputs": [
    {
     "data": {
      "text/plain": [
       "0       -\n",
       "1       -\n",
       "2       -\n",
       "3       -\n",
       "4       -\n",
       "       ..\n",
       "1632    -\n",
       "1633    -\n",
       "1634    -\n",
       "1635    -\n",
       "1636    -\n",
       "Name: KTP EL, Length: 1637, dtype: object"
      ]
     },
     "execution_count": 921,
     "metadata": {},
     "output_type": "execute_result"
    }
   ],
   "source": [
    "for i, txt in enumerate(raw_data['KTP EL']):\n",
    "    if txt == 'BELUM':\n",
    "        raw_data['KTP EL'][i] = '1'\n",
    "    elif txt == 'KTP-EL':\n",
    "        raw_data['KTP EL'][i] = '2'\n",
    "raw_data[\"KTP EL\"]"
   ]
  },
  {
   "cell_type": "code",
   "execution_count": 922,
   "metadata": {},
   "outputs": [
    {
     "data": {
      "text/plain": [
       "0       4\n",
       "1       4\n",
       "2       4\n",
       "3       2\n",
       "4       1\n",
       "       ..\n",
       "1632    -\n",
       "1633    -\n",
       "1634    -\n",
       "1635    -\n",
       "1636    -\n",
       "Name: Golongan Darah, Length: 1637, dtype: object"
      ]
     },
     "execution_count": 922,
     "metadata": {},
     "output_type": "execute_result"
    }
   ],
   "source": [
    "for i, txt in enumerate(raw_data[\"Golongan Darah\"]):\n",
    "    if txt == 'A':\n",
    "        raw_data['Golongan Darah'][i] = '1'\n",
    "    elif txt == 'B':\n",
    "        raw_data['Golongan Darah'][i] = '2'\n",
    "    elif txt == 'AB':\n",
    "        raw_data['Golongan Darah'][i] = '3'\n",
    "    elif txt == 'O':\n",
    "        raw_data['Golongan Darah'][i] = '4'\n",
    "    elif txt == 'A+':\n",
    "        raw_data['Golongan Darah'][i] = '5'\n",
    "    elif txt == 'A-':\n",
    "        raw_data['Golongan Darah'][i] = '6'\n",
    "    elif txt == 'B+':\n",
    "        raw_data['Golongan Darah'][i] = '7'\n",
    "    elif txt == 'B-':\n",
    "        raw_data['Golongan Darah'][i] = '8'\n",
    "    elif txt == 'AB+':\n",
    "        raw_data['Golongan Darah'][i] = '9'\n",
    "    elif txt == 'AB-':\n",
    "        raw_data['Golongan Darah'][i] = '10'\n",
    "    elif txt == 'O+':\n",
    "        raw_data['Golongan Darah'][i] = '11'\n",
    "    elif txt == 'O-':\n",
    "        raw_data['Golongan Darah'][i] = '12'\n",
    "    elif txt == 'TIDAK TAHU':\n",
    "        raw_data['Golongan Darah'][i] = '13'\n",
    "raw_data[\"Golongan Darah\"]"
   ]
  },
  {
   "cell_type": "code",
   "execution_count": 923,
   "metadata": {},
   "outputs": [
    {
     "data": {
      "text/plain": [
       "0       4\n",
       "1       4\n",
       "2       4\n",
       "3       4\n",
       "4       4\n",
       "       ..\n",
       "1632    4\n",
       "1633    4\n",
       "1634    4\n",
       "1635    4\n",
       "1636    4\n",
       "Name: Pendidikan Sedang Ditempuh, Length: 1637, dtype: object"
      ]
     },
     "execution_count": 923,
     "metadata": {},
     "output_type": "execute_result"
    }
   ],
   "source": [
    "# for i, txt in enumerate(raw_data['Pendidikan Sedang Ditempuh']):\n",
    "#     if txt == 'BELUM MASUK TK/KELOMPOK BERMAIN':\n",
    "#         raw_data['Pendidikan Sedang Ditempuh'][i] = '1'\n",
    "#     elif txt == 'SEDANG TK/KELOMPOK BERMAIN':\n",
    "#         raw_data['Pendidikan Sedang Ditempuh'][i] = '2'\n",
    "#     elif txt == 'TIDAK PERNAH SEKOLAH':\n",
    "#         raw_data['Pendidikan Sedang Ditempuh'][i] = '3'\n",
    "#     elif txt == 'SEDANG SD/SEDERAJAT':\n",
    "#         raw_data['Pendidikan Sedang Ditempuh'][i] = '4'\n",
    "#     elif txt == 'TIDAK TAMAT SD/SEDERAJAT':\n",
    "#         raw_data['Pendidikan Sedang Ditempuh'][i] = '5'\n",
    "#     elif txt == 'SEDANG SLTP/SEDERAJAT':\n",
    "#         raw_data['Pendidikan Sedang Ditempuh'][i] = '6'\n",
    "#     elif txt == 'SEDANG SLTA/SEDERAJAT':\n",
    "#         raw_data['Pendidikan Sedang Ditempuh'][i] = '7'\n",
    "#     elif txt == 'SEDANG D-1/SEDERAJAT':\n",
    "#         raw_data['Pendidikan Sedang Ditempuh'][i] = '8'\n",
    "#     elif txt == 'SEDANG D-2/SEDERAJAT':\n",
    "#         raw_data['Pendidikan Sedang Ditempuh'][i] = '9'\n",
    "#     elif txt == 'SEDANG D-3/SEDERAJAT':\n",
    "#         raw_data['Pendidikan Sedang Ditempuh'][i] = '10'\n",
    "#     elif txt == 'SEDANG S-1/SEDERAJAT':\n",
    "#         raw_data['Pendidikan Sedang Ditempuh'][i] = '11'\n",
    "#     elif txt == 'SEDANG S-2/SEDERAJAT':\n",
    "#         raw_data['Pendidikan Sedang Ditempuh'][i] = '12'\n",
    "#     elif txt == 'SEDANG S-3/SEDERAJAT':\n",
    "#         raw_data['Pendidikan Sedang Ditempuh'][i] = '13'\n",
    "#     elif txt == 'SEDANG SLB A/SEDERAJAT':\n",
    "#         raw_data['Pendidikan Sedang Ditempuh'][i] = '14'\n",
    "#     elif txt == 'SEDANG SLB B/SEDERAJAT':\n",
    "#         raw_data['Pendidikan Sedang Ditempuh'][i] = '15'\n",
    "#     elif txt == 'SEDANG SLB C/SEDERAJAT':\n",
    "#         raw_data['Pendidikan Sedang Ditempuh'][i] = '16'\n",
    "#     elif txt == 'TIDAK DAPAT MEMBACA DAN MENULIS HURUF LATIN/ARAB':\n",
    "#         raw_data['Pendidikan Sedang Ditempuh'][i] = '17'\n",
    "#     elif txt == 'TIDAK SEDANG SEKOLAH':\n",
    "#         raw_data['Pendidikan Sedang Ditempuh'][i] = '18'\n",
    "#     else:\n",
    "#         raw_data['Pendidikan Sedang Ditempuh'][i] = '-'\n",
    "# raw_data['Pendidikan Sedang Ditempuh']\n",
    "\n",
    "for i, txt in enumerate(raw_data['Pendidikan Sedang Ditempuh']):\n",
    "    raw_data['Pendidikan Sedang Ditempuh'][i] = '4'\n",
    "raw_data['Pendidikan Sedang Ditempuh']"
   ]
  },
  {
   "cell_type": "code",
   "execution_count": 924,
   "metadata": {},
   "outputs": [
    {
     "data": {
      "text/plain": [
       "0       4\n",
       "1       3\n",
       "2       8\n",
       "3       8\n",
       "4       5\n",
       "       ..\n",
       "1632    -\n",
       "1633    -\n",
       "1634    -\n",
       "1635    -\n",
       "1636    -\n",
       "Name: Pendidikan Dalam KK, Length: 1637, dtype: object"
      ]
     },
     "execution_count": 924,
     "metadata": {},
     "output_type": "execute_result"
    }
   ],
   "source": [
    "for i, txt in enumerate(raw_data[\"Pendidikan Dalam KK\"]):\n",
    "    if txt == 'TIDAK/ BELUM SEKOLAH' or txt == 'TIDAK / BELUM SEKOLAH' or txt == 'OTHERS':\n",
    "        raw_data[\"Pendidikan Dalam KK\"][i] = '1'\n",
    "    elif txt == 'BELUM TAMAT SD/ SEDERAJAT' or txt == 'BELUM TAMAT SD/SEDERAJAT':\n",
    "        raw_data[\"Pendidikan Dalam KK\"][i] = '2'\n",
    "    elif txt == 'TAMAT SD/ SEDERAJAT' or txt == 'TAMAT SD / SEDERAJAT' or txt == 'ELEMENTARY SCHOOL':\n",
    "        raw_data[\"Pendidikan Dalam KK\"][i] = '3'\n",
    "    elif txt == 'SLTP/ SEDERAJAT' or txt == 'SLTP/SEDERAJAT':\n",
    "        raw_data[\"Pendidikan Dalam KK\"][i] = '4'\n",
    "    elif txt == 'SLTA/ SEDERAJAT' or txt == 'SLTA / SEDERAJAT':\n",
    "        raw_data[\"Pendidikan Dalam KK\"][i] = '5'\n",
    "    elif txt == 'DIPLOMA I/ II' or txt == 'DIPLOMA':\n",
    "        raw_data[\"Pendidikan Dalam KK\"][i] = '6'\n",
    "    elif txt == 'AKADEMI/ DIPLOMA III/ SARJANA MUDA' or txt == 'AKADEMI/ DIPLOMA III/S. MUDA':\n",
    "        raw_data[\"Pendidikan Dalam KK\"][i] = '7'\n",
    "    elif txt == 'DIPLOMA IV/ STRATA I':\n",
    "        raw_data[\"Pendidikan Dalam KK\"][i] = '8'\n",
    "    elif txt == 'STRATA II':\n",
    "        raw_data[\"Pendidikan Dalam KK\"][i] = '9'\n",
    "    elif txt == 'STRATA III':\n",
    "        raw_data[\"Pendidikan Dalam KK\"][i] = '10'\n",
    "\n",
    "raw_data[\"Pendidikan Dalam KK\"]"
   ]
  },
  {
   "cell_type": "code",
   "execution_count": 925,
   "metadata": {},
   "outputs": [
    {
     "data": {
      "text/plain": [
       "5    444\n",
       "1    380\n",
       "3    291\n",
       "4    178\n",
       "2    138\n",
       "8    124\n",
       "6     40\n",
       "7     27\n",
       "9      9\n",
       "-      6\n",
       "Name: Pendidikan Dalam KK, dtype: int64"
      ]
     },
     "execution_count": 925,
     "metadata": {},
     "output_type": "execute_result"
    }
   ],
   "source": [
    "raw_data[\"Pendidikan Dalam KK\"].value_counts()"
   ]
  },
  {
   "cell_type": "code",
   "execution_count": 926,
   "metadata": {},
   "outputs": [
    {
     "data": {
      "text/plain": [
       "0       1\n",
       "1       3\n",
       "2       4\n",
       "3       1\n",
       "4       3\n",
       "       ..\n",
       "1632    -\n",
       "1633    -\n",
       "1634    -\n",
       "1635    -\n",
       "1636    -\n",
       "Name: Status Hubungan Dalam Keluarga, Length: 1637, dtype: object"
      ]
     },
     "execution_count": 926,
     "metadata": {},
     "output_type": "execute_result"
    }
   ],
   "source": [
    "for i, txt in enumerate(raw_data[\"Status Hubungan Dalam Keluarga\"]):\n",
    "    if txt == 'KEPALA KELUARGA':\n",
    "        raw_data[\"Status Hubungan Dalam Keluarga\"][i] = '1'\n",
    "    elif txt == 'SUAMI' or txt == 'SUAMI/HUSBAND':\n",
    "        raw_data[\"Status Hubungan Dalam Keluarga\"][i] = '2'\n",
    "    elif txt == 'ISTRI' or txt == 'ISTRI/ WIFE' or txt == 'ISTRI/WIFE':\n",
    "        raw_data[\"Status Hubungan Dalam Keluarga\"][i] = '3'\n",
    "    elif txt == 'ANAK':\n",
    "        raw_data[\"Status Hubungan Dalam Keluarga\"][i] = '4'\n",
    "    elif txt == 'MENANTU':\n",
    "        raw_data[\"Status Hubungan Dalam Keluarga\"][i] = '5'\n",
    "    elif txt == 'CUCU':\n",
    "        raw_data[\"Status Hubungan Dalam Keluarga\"][i] = '6'\n",
    "    elif txt == 'ORANGTUA' or txt == 'ORANG TUA':\n",
    "        raw_data[\"Status Hubungan Dalam Keluarga\"][i] = '7'\n",
    "    elif txt == 'MERTUA':\n",
    "        raw_data[\"Status Hubungan Dalam Keluarga\"][i] = '8'\n",
    "    elif txt == 'FAMILI LAIN':\n",
    "        raw_data[\"Status Hubungan Dalam Keluarga\"][i] = '9'\n",
    "    elif txt == 'PEMBANTU':\n",
    "        raw_data[\"Status Hubungan Dalam Keluarga\"][i] = '10'\n",
    "    elif txt == 'LAINNYA':\n",
    "        raw_data[\"Status Hubungan Dalam Keluarga\"][i] = '11'\n",
    "raw_data[\"Status Hubungan Dalam Keluarga\"]"
   ]
  },
  {
   "cell_type": "code",
   "execution_count": 927,
   "metadata": {},
   "outputs": [
    {
     "data": {
      "text/plain": [
       "4     658\n",
       "1     428\n",
       "3     365\n",
       "7      83\n",
       "11     39\n",
       "9      36\n",
       "6       9\n",
       "2       9\n",
       "-       6\n",
       "5       4\n",
       "Name: Status Hubungan Dalam Keluarga, dtype: int64"
      ]
     },
     "execution_count": 927,
     "metadata": {},
     "output_type": "execute_result"
    }
   ],
   "source": [
    "raw_data[\"Status Hubungan Dalam Keluarga\"].value_counts()"
   ]
  },
  {
   "cell_type": "code",
   "execution_count": 928,
   "metadata": {},
   "outputs": [
    {
     "data": {
      "text/plain": [
       "0       7\n",
       "1       7\n",
       "2       7\n",
       "3       7\n",
       "4       7\n",
       "       ..\n",
       "1632    7\n",
       "1633    7\n",
       "1634    7\n",
       "1635    7\n",
       "1636    7\n",
       "Name: Cacat, Length: 1637, dtype: object"
      ]
     },
     "execution_count": 928,
     "metadata": {},
     "output_type": "execute_result"
    }
   ],
   "source": [
    "for i, txt in enumerate(raw_data[\"Cacat\"]):\n",
    "    if txt == 'CACAT FISIK':\n",
    "        raw_data[\"Cacat\"][i] = '1'\n",
    "    elif txt == 'CACAT NETRA/BUTA':\n",
    "        raw_data[\"Cacat\"][i] = '2'\n",
    "    elif txt == 'CACAT RUNGU/WICARA':\n",
    "        raw_data[\"Cacat\"][i] = '3'\n",
    "    elif txt == 'CACAT MENTAL/JIWA':\n",
    "        raw_data[\"Cacat\"][i] = '4'\n",
    "    elif txt == 'CACAT FISIK DAN MENTAL':\n",
    "        raw_data[\"Cacat\"][i] = '5'\n",
    "    elif txt == 'CACAT LAINNYA':\n",
    "        raw_data[\"Cacat\"][i] = '6'\n",
    "    elif txt == 'TIDAK CACAT':\n",
    "        raw_data[\"Cacat\"][i] = '7'\n",
    "    else:\n",
    "        raw_data[\"Cacat\"][i] = '7'\n",
    "raw_data[\"Cacat\"]"
   ]
  },
  {
   "cell_type": "code",
   "execution_count": 929,
   "metadata": {},
   "outputs": [
    {
     "data": {
      "text/plain": [
       "0       1\n",
       "1       1\n",
       "2       1\n",
       "3       1\n",
       "4       1\n",
       "       ..\n",
       "1632    1\n",
       "1633    1\n",
       "1634    1\n",
       "1635    1\n",
       "1636    1\n",
       "Name: Hamil, Length: 1637, dtype: object"
      ]
     },
     "execution_count": 929,
     "metadata": {},
     "output_type": "execute_result"
    }
   ],
   "source": [
    "for i, txt in enumerate(raw_data[\"Hamil\"]):\n",
    "    raw_data[\"Hamil\"][i] = '1'\n",
    "raw_data[\"Hamil\"]"
   ]
  },
  {
   "cell_type": "code",
   "execution_count": 930,
   "metadata": {},
   "outputs": [
    {
     "data": {
      "text/plain": [
       "1    1637\n",
       "Name: Hamil, dtype: int64"
      ]
     },
     "execution_count": 930,
     "metadata": {},
     "output_type": "execute_result"
    }
   ],
   "source": [
    "raw_data['Hamil'].value_counts()"
   ]
  },
  {
   "cell_type": "code",
   "execution_count": 931,
   "metadata": {},
   "outputs": [
    {
     "data": {
      "text/plain": [
       "'-'"
      ]
     },
     "execution_count": 931,
     "metadata": {},
     "output_type": "execute_result"
    }
   ],
   "source": [
    "raw_data['NIK'][1631]"
   ]
  },
  {
   "cell_type": "code",
   "execution_count": 932,
   "metadata": {},
   "outputs": [
    {
     "data": {
      "text/plain": [
       "0       99\n",
       "1       99\n",
       "2       99\n",
       "3       99\n",
       "4       99\n",
       "        ..\n",
       "1632    99\n",
       "1633    99\n",
       "1634    99\n",
       "1635    99\n",
       "1636    99\n",
       "Name: Cara KB, Length: 1637, dtype: object"
      ]
     },
     "execution_count": 932,
     "metadata": {},
     "output_type": "execute_result"
    }
   ],
   "source": [
    "for i, txt in enumerate(raw_data[\"Cara KB\"]):\n",
    "    if txt == 'Pil':\n",
    "        raw_data[\"Cara KB\"][i] = '1'\n",
    "    elif txt == 'IUD':\n",
    "        raw_data[\"Cara KB\"][i] = '2'\n",
    "    elif txt == 'Suntik':\n",
    "        raw_data[\"Cara KB\"][i] = '3'\n",
    "    elif txt == 'Kondom':\n",
    "        raw_data[\"Cara KB\"][i] = '4'\n",
    "    elif txt == 'Susuk KB':\n",
    "        raw_data[\"Cara KB\"][i] = '5'\n",
    "    elif txt == 'Sterilisasi Wanita':\n",
    "        raw_data[\"Cara KB\"][i] = '6'\n",
    "    elif txt == 'Sterilisasi Pria':\n",
    "        raw_data[\"Cara KB\"][i] = '7'\n",
    "    else:\n",
    "        raw_data[\"Cara KB\"][i] = '99'\n",
    "raw_data[\"Cara KB\"]"
   ]
  },
  {
   "cell_type": "code",
   "execution_count": 933,
   "metadata": {},
   "outputs": [
    {
     "data": {
      "text/plain": [
       "7    1637\n",
       "Name: Cacat, dtype: int64"
      ]
     },
     "execution_count": 933,
     "metadata": {},
     "output_type": "execute_result"
    }
   ],
   "source": [
    "raw_data.Cacat.value_counts()"
   ]
  },
  {
   "cell_type": "code",
   "execution_count": 934,
   "metadata": {},
   "outputs": [
    {
     "data": {
      "text/plain": [
       "2    814\n",
       "1    702\n",
       "4     90\n",
       "3     25\n",
       "-      6\n",
       "Name: Status Perkawinan, dtype: int64"
      ]
     },
     "execution_count": 934,
     "metadata": {},
     "output_type": "execute_result"
    }
   ],
   "source": [
    "raw_data['Status Perkawinan'].value_counts()"
   ]
  },
  {
   "cell_type": "code",
   "execution_count": 935,
   "metadata": {},
   "outputs": [
    {
     "data": {
      "text/plain": [
       "-    1637\n",
       "Name: Status Rekam, dtype: int64"
      ]
     },
     "execution_count": 935,
     "metadata": {},
     "output_type": "execute_result"
    }
   ],
   "source": [
    "raw_data['Status Rekam'].value_counts()"
   ]
  },
  {
   "cell_type": "code",
   "execution_count": 936,
   "metadata": {},
   "outputs": [
    {
     "data": {
      "text/plain": [
       "1     179\n",
       "99      6\n",
       "Name: Status Dasar, dtype: int64"
      ]
     },
     "execution_count": 936,
     "metadata": {},
     "output_type": "execute_result"
    }
   ],
   "source": [
    "raw_data['Status Dasar'].value_counts()"
   ]
  },
  {
   "cell_type": "code",
   "execution_count": 937,
   "metadata": {},
   "outputs": [],
   "source": [
    "raw_data.to_excel(\"format.xlsx\", index=False)"
   ]
  }
 ],
 "metadata": {
  "interpreter": {
   "hash": "3d597f4c481aa0f25dceb95d2a0067e73c0966dcbd003d741d821a7208527ecf"
  },
  "kernelspec": {
   "display_name": "Python 3.9.5 64-bit ('base': conda)",
   "language": "python",
   "name": "python3"
  },
  "language_info": {
   "codemirror_mode": {
    "name": "ipython",
    "version": 3
   },
   "file_extension": ".py",
   "mimetype": "text/x-python",
   "name": "python",
   "nbconvert_exporter": "python",
   "pygments_lexer": "ipython3",
   "version": "3.9.5"
  },
  "orig_nbformat": 4
 },
 "nbformat": 4,
 "nbformat_minor": 2
}
